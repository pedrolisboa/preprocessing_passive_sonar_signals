{
 "cells": [
  {
   "cell_type": "code",
   "execution_count": 1,
   "metadata": {},
   "outputs": [],
   "source": [
    "from tensorflow.keras.layers import Dense, Dropout\n",
    "from tensorflow.keras.models import Sequential\n",
    "from tensorflow.keras.optimizers import Adam, SGD\n",
    "\n",
    "import os\n",
    "import numpy as np\n",
    "from scipy.signal import decimate\n",
    "from tensorflow.keras import regularizers\n",
    "from poseidon.signal.lofar import tpsw, lofar\n",
    "from poseidon.io.offline import load_raw_data\n",
    "from poseidon.signal.utils import resample"
   ]
  },
  {
   "cell_type": "code",
   "execution_count": 42,
   "metadata": {},
   "outputs": [
    {
     "data": {
      "text/plain": [
       "288"
      ]
     },
     "execution_count": 42,
     "metadata": {},
     "output_type": "execute_result"
    }
   ],
   "source": [
    "from itertools import product\n",
    "p_modes = frequency_decimation_blocks.keys()\n",
    "t_modes = background_noise_correction_blocks.keys()\n",
    "e_modes = individual_spectrum_normalization_blocks.keys()\n",
    "f_modes = frequency_bin_normalization_blocks.keys()\n",
    "mode_combinations = list(product(p_modes, t_modes, e_modes, f_modes))"
   ]
  },
  {
   "cell_type": "code",
   "execution_count": 85,
   "metadata": {},
   "outputs": [],
   "source": [
    "def rms(x):\n",
    "    return np.sqrt((x**2).sum()/x.shape[0])\n",
    "\n",
    "frequency_decimation_blocks = {\n",
    "    'P1': lambda Sxx: decimate(decimate(Sxx, \n",
    "                                        2, 1, ftype='fir'), \n",
    "                               2, 1, ftype='fir'),\n",
    "    'P2': lambda Sxx: decimate(Sxx, 2, 1, ftype='fir'),\n",
    "    'P3': lambda Sxx: Sxx\n",
    "}\n",
    "\n",
    "background_noise_correction_blocks = {\n",
    "    'T1': lambda Sxx: Sxx,\n",
    "    'T2': lambda Sxx: Sxx - tpsw(Sxx),\n",
    "    'T3': lambda Sxx: (Sxx - tpsw(Sxx))/tpsw(Sxx),\n",
    "    'T4': lambda Sxx: Sxx/tpsw(Sxx),\n",
    "    'T5': lambda Sxx: np.log10(Sxx/tpsw(Sxx)),\n",
    "    'T6': lambda Sxx: np.log10(Sxx)\n",
    "}\n",
    "\n",
    "individual_spectrum_normalization_blocks = {\n",
    "    'E1': lambda Sxx: Sxx,\n",
    "    'E2': lambda Sxx: Sxx/Sxx.max(),\n",
    "    'E3': lambda Sxx: Sxx/rms(Sxx),\n",
    "    'E4': lambda Sxx: Sxx/Sxx.mean(),\n",
    "}\n",
    "\n",
    "frequency_bin_normalization_blocks = {\n",
    "    'F1': lambda tst_bin, trn_bins: tst_bin,\n",
    "    'F2': lambda tst_bin, trn_bins: tst_bin/trn_bins.mean(),\n",
    "    'F3': lambda tst_bin, trn_bins: (tst_bin - trn_bins.mean())/trn_bins.mean(),\n",
    "    'F4': lambda tst_bin, trn_bins: (tst_bin - trn_bins.mean())/rms(tst_bin - trn_bins.mean())\n",
    "}\n"
   ]
  },
  {
   "cell_type": "code",
   "execution_count": 83,
   "metadata": {},
   "outputs": [],
   "source": [
    "## Frequency decimation test\n",
    "nbins = 800\n",
    "freq_dec_test_data = np.ones(nbins)\n",
    "for mode, c_bins in zip(['P3', 'P2', 'P1'], [nbins, nbins//2, nbins//4]):\n",
    "    assert frequency_decimation_blocks[mode](freq_dec_test_data).ndim == 1\n",
    "    assert frequency_decimation_blocks[mode](freq_dec_test_data).shape[0] == c_bins\n",
    "\n",
    "## Background noise correction test"
   ]
  },
  {
   "cell_type": "code",
   "execution_count": 18,
   "metadata": {},
   "outputs": [],
   "source": [
    "base_dir = os.path.abspath(os.path.join(os.getcwd(), os.pardir))\n",
    "database = '4classes'\n",
    "proc_data_path = os.path.join(base_dir, 'data', 'processed')\n",
    "raw_data_path = os.path.join(base_dir, 'data', 'raw', database)\n",
    "raw_data = load_raw_data(raw_data_path, verbose=0)"
   ]
  },
  {
   "cell_type": "code",
   "execution_count": 85,
   "metadata": {},
   "outputs": [],
   "source": [
    "ex_data = (raw_data\n",
    "    .apply(lambda rr: rr.signal)\n",
    "    .apply(decimate,\n",
    "           signal_proc_params['decimation_rate'], 8, 'fir', zero_phase=True)\n",
    "    .apply(spectrogram,\n",
    "           **spectrogram_args)\n",
    "    .apply(lambda x: np.transpose(x[2])))['Class_22']['class22_dataset24B.wav'][0] # remove time and freq info/transpose power spectrum"
   ]
  },
  {
   "cell_type": "code",
   "execution_count": 60,
   "metadata": {},
   "outputs": [],
   "source": [
    "ex_data[ex_data < 0.00008] = np.sqrt(ex_data[ex_data < 0.00008])**(1.5)\n",
    "# ex_data[ex_data < ]"
   ]
  },
  {
   "cell_type": "code",
   "execution_count": 87,
   "metadata": {},
   "outputs": [
    {
     "data": {
      "text/plain": [
       "[<matplotlib.lines.Line2D at 0x7f88230336d8>]"
      ]
     },
     "execution_count": 87,
     "metadata": {},
     "output_type": "execute_result"
    },
    {
     "data": {
      "image/png": "[encoded data removed]",
      "text/plain": [
       "<Figure size 432x288 with 1 Axes>"
      ]
     },
     "metadata": {
      "needs_background": "light"
     },
     "output_type": "display_data"
    }
   ],
   "source": [
    "\n",
    "plt.plot(np.log10(ex_data))\n",
    "plt.plot(np.log10(tpsw(ex_data)))"
   ]
  },
  {
   "cell_type": "code",
   "execution_count": null,
   "metadata": {},
   "outputs": [],
   "source": []
  },
  {
   "cell_type": "code",
   "execution_count": 33,
   "metadata": {},
   "outputs": [
    {
     "data": {
      "text/plain": [
       "(12911, 800)"
      ]
     },
     "execution_count": 33,
     "metadata": {},
     "output_type": "execute_result"
    }
   ],
   "source": [
    "from scipy.signal import spectrogram\n",
    "\n",
    "signal_proc_params = dict(\n",
    "    n_pts_fft = 2048,\n",
    "    n_overlap = 0,\n",
    "    decimation_rate = 3,\n",
    "    fs=22050,\n",
    "    spectrum_bins_left=800\n",
    ")\n",
    "\n",
    "spectrogram_args = dict(\n",
    "    window=('hann'),\n",
    "    fs=signal_proc_params['fs']//signal_proc_params['decimation_rate'],\n",
    "    nfft = signal_proc_params['n_pts_fft'], \n",
    "    nperseg = signal_proc_params['n_pts_fft'], \n",
    "    noverlap=signal_proc_params['n_overlap'],\n",
    "    detrend=False,\n",
    "    axis=0,\n",
    "    scaling='spectrum',\n",
    "    mode='magnitude'\n",
    ")\n",
    "\n",
    "def cut_bins(sxx, spectrum_bins_left):\n",
    "    return sxx[:, :spectrum_bins_left]\n",
    "\n",
    "def preprocess_data(raw_data, p_mode, t_mode, e_mode):\n",
    "    return (\n",
    "        raw_data\n",
    "            .apply(lambda rr: rr.signal)\n",
    "            .apply(decimate,\n",
    "                   signal_proc_params['decimation_rate'], 8, 'fir', zero_phase=True)\n",
    "            .apply(spectrogram,\n",
    "                   **spectrogram_args)\n",
    "            .apply(lambda x: np.transpose(x[2])) # remove time and freq info/transpose power spectrum\n",
    "            .apply(cut_bins, signal_proc_params['spectrum_bins_left'])\n",
    "            .apply(frequency_decimation_blocks[p_mode])\n",
    "            .apply(background_noise_correction_blocks[t_mode])\n",
    "            .apply(individual_spectrum_normalization_blocks[e_mode])\n",
    "    )\n",
    "\n",
    "def generate_data_trgt_pair(processed_data_dict, trgt_label_map=None):\n",
    "    if trgt_label_map is None:\n",
    "        trgt_label_map = {\n",
    "            'ClassA': 0,\n",
    "            'ClassB': 1,\n",
    "            'ClassC': 2,\n",
    "            'ClassD': 3\n",
    "        }\n",
    "    \n",
    "    trgt = np.concatenate([trgt_label_map[cls_name]*np.ones(Sxx.shape[0]) \n",
    "                     for cls_name, run in processed_data_dict.items() \n",
    "                     for run_name, Sxx in run.items()])\n",
    "    data = np.concatenate([Sxx\n",
    "                     for cls_name, run in processed_data_dict.items() \n",
    "                     for run_name, Sxx in run.items()], axis=0)\n",
    "    return data, trgt\n",
    "\n",
    "data, trgt = generate_data_trgt_pair(\n",
    "    preprocess_data(raw_data, 'P3', 'T1', 'E1')\n",
    ")\n",
    "# data = preprocess_data(raw_data, 'P1', 'T1', 'E1')\n",
    "# for cls_name, run in data.items():\n",
    "#     for run_name, Sxx in run.items():\n",
    "#         print(cls_name, end=' ')\n",
    "#         print(run_name, end=' ')\n",
    "#         print(Sxx.shape)\n",
    "data.shape"
   ]
  },
  {
   "cell_type": "code",
   "execution_count": 87,
   "metadata": {},
   "outputs": [
    {
     "name": "stdout",
     "output_type": "stream",
     "text": [
      "0.4544961452484131\n"
     ]
    },
    {
     "data": {
      "text/plain": [
       "(12911, 800)"
      ]
     },
     "execution_count": 87,
     "metadata": {},
     "output_type": "execute_result"
    }
   ],
   "source": [
    "import time\n",
    "start = time.time()\n",
    "result1 = [frequency_bin_normalization_blocks['F4'](data[:, i_bin], data[:, i_bin])\n",
    "           for i_bin in range(data.shape[1])]\n",
    "        \n",
    "print(time.time() - start)\n",
    "data.shape"
   ]
  },
  {
   "cell_type": "code",
   "execution_count": null,
   "metadata": {},
   "outputs": [],
   "source": []
  }
 ],
 "metadata": {
  "kernelspec": {
   "display_name": "sonar",
   "language": "python",
   "name": "sonar"
  },
  "language_info": {
   "codemirror_mode": {
    "name": "ipython",
    "version": 3
   },
   "file_extension": ".py",
   "mimetype": "text/x-python",
   "name": "python",
   "nbconvert_exporter": "python",
   "pygments_lexer": "ipython3",
   "version": "3.6.8"
  }
 },
 "nbformat": 4,
 "nbformat_minor": 4
}
